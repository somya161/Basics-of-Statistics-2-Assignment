{
 "cells": [
  {
   "cell_type": "markdown",
   "id": "f26b76fa",
   "metadata": {},
   "source": [
    "# Q.1 The time required for servicing transmissions is normally distributed with mean= 45 minutes and S.d = 8 minutes. The service manager plans to have work begin on the transmission of a customer’s car 10 minutes after the car is dropped off and the customer is told that the car will be ready within 1 hour from drop-off. What is the probability that the service manager cannot meet his commitment? \n",
    "\n",
    "A.\t0.3875   \n",
    "B.\t0.2676   \n",
    "C.\t0.5   \n",
    "D.\t0.6987 \n"
   ]
  },
  {
   "cell_type": "code",
   "execution_count": 1,
   "id": "b228a2a0",
   "metadata": {},
   "outputs": [],
   "source": [
    "import scipy\n",
    "import pandas as pd\n",
    "from scipy import stats\n"
   ]
  },
  {
   "cell_type": "code",
   "execution_count": 2,
   "id": "480a74b1",
   "metadata": {},
   "outputs": [
    {
     "data": {
      "text/plain": [
       "0.9696036382347386"
      ]
     },
     "execution_count": 2,
     "metadata": {},
     "output_type": "execute_result"
    }
   ],
   "source": [
    "stats.norm.cdf(60,45,8)  # meet his commitment"
   ]
  },
  {
   "cell_type": "code",
   "execution_count": 3,
   "id": "9b9f8a87",
   "metadata": {},
   "outputs": [
    {
     "data": {
      "text/plain": [
       "0.26598552904870054"
      ]
     },
     "execution_count": 3,
     "metadata": {},
     "output_type": "execute_result"
    }
   ],
   "source": [
    "1-stats.norm.cdf(60,55,8)  #cannot meet his commitment"
   ]
  },
  {
   "cell_type": "markdown",
   "id": "e46e22e5",
   "metadata": {},
   "source": [
    "# Q.2 The current age (in years) of 400 clerical employees at an insurance claims processing center is normally distributed with mean = 38 and Standard deviation =6. For each statement below, please specify True/False. If false, briefly explain why.\n",
    "A. More employees at the processing center are older than 44 than between 38 and 44.\n",
    "\n",
    "B. A training program for employees under the age of 30 at the center would be expected to attract about 36 employees. "
   ]
  },
  {
   "cell_type": "code",
   "execution_count": 4,
   "id": "df8d5ff5",
   "metadata": {},
   "outputs": [],
   "source": [
    "from scipy import stats\n",
    "from scipy.stats import norm"
   ]
  },
  {
   "cell_type": "code",
   "execution_count": 6,
   "id": "e3c3c66a",
   "metadata": {},
   "outputs": [
    {
     "data": {
      "text/plain": [
       "1.0"
      ]
     },
     "execution_count": 6,
     "metadata": {},
     "output_type": "execute_result"
    }
   ],
   "source": [
    "# For x>44\n",
    "Z = (44-38)/6\n",
    "Z"
   ]
  },
  {
   "cell_type": "code",
   "execution_count": 8,
   "id": "6b07a756",
   "metadata": {},
   "outputs": [
    {
     "data": {
      "text/plain": [
       "0.15865525393145707"
      ]
     },
     "execution_count": 8,
     "metadata": {},
     "output_type": "execute_result"
    }
   ],
   "source": [
    "1-stats.norm.cdf(abs(Z))"
   ]
  },
  {
   "cell_type": "code",
   "execution_count": 9,
   "id": "4c0c78d5",
   "metadata": {},
   "outputs": [
    {
     "data": {
      "text/plain": [
       "0.3413447460685429"
      ]
     },
     "execution_count": 9,
     "metadata": {},
     "output_type": "execute_result"
    }
   ],
   "source": [
    "stats.norm.cdf(44,38,6) - stats.norm.cdf(38,38,6)  # Employees between 38 and 44 of age "
   ]
  },
  {
   "cell_type": "code",
   "execution_count": 10,
   "id": "b791a522",
   "metadata": {},
   "outputs": [
    {
     "data": {
      "text/plain": [
       "0.09121121972586788"
      ]
     },
     "execution_count": 10,
     "metadata": {},
     "output_type": "execute_result"
    }
   ],
   "source": [
    "stats.norm.cdf(30,38,6)  #Employees under the age of 30"
   ]
  },
  {
   "cell_type": "code",
   "execution_count": 11,
   "id": "7a01db68",
   "metadata": {},
   "outputs": [
    {
     "data": {
      "text/plain": [
       "36.484487890347154"
      ]
     },
     "execution_count": 11,
     "metadata": {},
     "output_type": "execute_result"
    }
   ],
   "source": [
    "400*stats.norm.cdf(30,38,6)  #Employees attending training under the age of 30 years"
   ]
  },
  {
   "cell_type": "markdown",
   "id": "e22c197e",
   "metadata": {},
   "source": [
    "## Consider a company that has two different divisions. The annual profits from the two divisions are independent and have distributions Profit1 ~ N (5, 32) and Profit2 ~ N(7, 42) respectively. Both the profits are in $ Million. Answer the following questions about the total profit of the company in Rupees. Assume that $1 = Rs. 45\n",
    "A.\tSpecify a Rupee range (centered on the mean) such that it contains 95% probability for the annual profit of the company.\n",
    "\n",
    "B.\tSpecify the 5th percentile of profit (in Rupees) for the company\n",
    "\n",
    "C.\tWhich of the two divisions has a larger probability of making a loss in a given year?\n"
   ]
  },
  {
   "cell_type": "code",
   "execution_count": 12,
   "id": "ad1a62dd",
   "metadata": {},
   "outputs": [],
   "source": [
    "import numpy as np\n",
    "from scipy import stats\n",
    "from scipy.stats import norm"
   ]
  },
  {
   "cell_type": "code",
   "execution_count": 13,
   "id": "088ff920",
   "metadata": {},
   "outputs": [
    {
     "name": "stdout",
     "output_type": "stream",
     "text": [
      "Mean Profit is Rs 540 Million\n"
     ]
    }
   ],
   "source": [
    "Mean = 5+7\n",
    "print('Mean Profit is Rs', Mean*45, 'Million')  # Mean Profit from two diff div of a company = Mean 1 + Mean 2\n"
   ]
  },
  {
   "cell_type": "code",
   "execution_count": 14,
   "id": "7eea4c83",
   "metadata": {},
   "outputs": [
    {
     "name": "stdout",
     "output_type": "stream",
     "text": [
      "Standard Deviation is Rs 225.0 Million\n"
     ]
    }
   ],
   "source": [
    "Sd = np.sqrt((9)+(16))\n",
    "print('Standard Deviation is Rs', Sd*45, 'Million')  # Variance of profits from two different divisions of a company = SD^2 = SD1^2 + SD2^2"
   ]
  },
  {
   "cell_type": "code",
   "execution_count": 16,
   "id": "05ab5ee1",
   "metadata": {},
   "outputs": [
    {
     "data": {
      "text/plain": [
       "(99.00810347848784, 980.9918965215122)"
      ]
     },
     "execution_count": 16,
     "metadata": {},
     "output_type": "execute_result"
    }
   ],
   "source": [
    "# A.\n",
    "stats.norm.interval(0.95,540,225,)"
   ]
  },
  {
   "cell_type": "code",
   "execution_count": 18,
   "id": "bd6a454f",
   "metadata": {},
   "outputs": [
    {
     "data": {
      "text/plain": [
       "170.0"
      ]
     },
     "execution_count": 18,
     "metadata": {},
     "output_type": "execute_result"
    }
   ],
   "source": [
    "# B.\n",
    "# To compute 5th Percentile, we use the formula X=μ+Zσ; \n",
    "# wherein from z table, 5 percentile = -1.645\n",
    "X= 540+(-1.645)*(225)\n",
    "np.round(X)"
   ]
  },
  {
   "cell_type": "code",
   "execution_count": 19,
   "id": "efb7d329",
   "metadata": {},
   "outputs": [
    {
     "data": {
      "text/plain": [
       "0.0477903522728147"
      ]
     },
     "execution_count": 19,
     "metadata": {},
     "output_type": "execute_result"
    }
   ],
   "source": [
    "# C.\n",
    "stats.norm.cdf(0,5,3)  # Probability of Division 1 making a loss P(X<0)"
   ]
  },
  {
   "cell_type": "code",
   "execution_count": 20,
   "id": "8a314d6c",
   "metadata": {},
   "outputs": [
    {
     "data": {
      "text/plain": [
       "0.040059156863817086"
      ]
     },
     "execution_count": 20,
     "metadata": {},
     "output_type": "execute_result"
    }
   ],
   "source": [
    "stats.norm.cdf(0,7,4)  # Probability of Division 2 making a loss P(X<0)"
   ]
  },
  {
   "cell_type": "code",
   "execution_count": null,
   "id": "71c2ad96",
   "metadata": {},
   "outputs": [],
   "source": []
  }
 ],
 "metadata": {
  "kernelspec": {
   "display_name": "Python 3 (ipykernel)",
   "language": "python",
   "name": "python3"
  },
  "language_info": {
   "codemirror_mode": {
    "name": "ipython",
    "version": 3
   },
   "file_extension": ".py",
   "mimetype": "text/x-python",
   "name": "python",
   "nbconvert_exporter": "python",
   "pygments_lexer": "ipython3",
   "version": "3.9.12"
  }
 },
 "nbformat": 4,
 "nbformat_minor": 5
}
